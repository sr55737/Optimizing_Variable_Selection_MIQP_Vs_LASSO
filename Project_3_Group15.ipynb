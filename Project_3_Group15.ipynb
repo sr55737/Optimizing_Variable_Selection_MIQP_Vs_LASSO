{
 "cells": [
  {
   "cell_type": "code",
   "execution_count": 1,
   "metadata": {},
   "outputs": [],
   "source": [
    "import os\n",
    "import os.path\n",
    "import pandas as pd\n",
    "import numpy as np\n",
    "import gurobipy as gp\n",
    "from sklearn.metrics import mean_squared_error\n",
    "import time"
   ]
  },
  {
   "cell_type": "markdown",
   "metadata": {},
   "source": [
    "**Setting the Time Limit**"
   ]
  },
  {
   "cell_type": "code",
   "execution_count": 2,
   "metadata": {},
   "outputs": [
    {
     "name": "stdout",
     "output_type": "stream",
     "text": [
      "Set parameter Username\n",
      "Academic license - for non-commercial use only - expires 2024-08-20\n",
      "Set parameter TimeLimit to value 36\n"
     ]
    }
   ],
   "source": [
    "gurobi_time_limit = 36\n",
    "env = gp.Env()\n",
    "env.setParam('TimeLimit',gurobi_time_limit)"
   ]
  },
  {
   "cell_type": "markdown",
   "metadata": {},
   "source": [
    "**Reading the Training_data.csv file**"
   ]
  },
  {
   "cell_type": "code",
   "execution_count": 3,
   "metadata": {},
   "outputs": [],
   "source": [
    "df=pd.read_csv('training_data.csv')"
   ]
  },
  {
   "cell_type": "code",
   "execution_count": 4,
   "metadata": {},
   "outputs": [
    {
     "data": {
      "text/html": [
       "<div>\n",
       "<style scoped>\n",
       "    .dataframe tbody tr th:only-of-type {\n",
       "        vertical-align: middle;\n",
       "    }\n",
       "\n",
       "    .dataframe tbody tr th {\n",
       "        vertical-align: top;\n",
       "    }\n",
       "\n",
       "    .dataframe thead th {\n",
       "        text-align: right;\n",
       "    }\n",
       "</style>\n",
       "<table border=\"1\" class=\"dataframe\">\n",
       "  <thead>\n",
       "    <tr style=\"text-align: right;\">\n",
       "      <th></th>\n",
       "      <th>y</th>\n",
       "      <th>X1</th>\n",
       "      <th>X2</th>\n",
       "      <th>X3</th>\n",
       "      <th>X4</th>\n",
       "      <th>X5</th>\n",
       "      <th>X6</th>\n",
       "      <th>X7</th>\n",
       "      <th>X8</th>\n",
       "      <th>X9</th>\n",
       "      <th>...</th>\n",
       "      <th>X41</th>\n",
       "      <th>X42</th>\n",
       "      <th>X43</th>\n",
       "      <th>X44</th>\n",
       "      <th>X45</th>\n",
       "      <th>X46</th>\n",
       "      <th>X47</th>\n",
       "      <th>X48</th>\n",
       "      <th>X49</th>\n",
       "      <th>X50</th>\n",
       "    </tr>\n",
       "  </thead>\n",
       "  <tbody>\n",
       "    <tr>\n",
       "      <th>0</th>\n",
       "      <td>8.536145</td>\n",
       "      <td>-1.535413</td>\n",
       "      <td>0.718888</td>\n",
       "      <td>-2.099149</td>\n",
       "      <td>-0.442842</td>\n",
       "      <td>-0.598978</td>\n",
       "      <td>-1.642574</td>\n",
       "      <td>0.207755</td>\n",
       "      <td>0.760642</td>\n",
       "      <td>0.575874</td>\n",
       "      <td>...</td>\n",
       "      <td>0.361866</td>\n",
       "      <td>1.793098</td>\n",
       "      <td>-0.631287</td>\n",
       "      <td>-0.061751</td>\n",
       "      <td>0.511049</td>\n",
       "      <td>0.488754</td>\n",
       "      <td>-0.612772</td>\n",
       "      <td>-0.471045</td>\n",
       "      <td>-1.139781</td>\n",
       "      <td>-0.260773</td>\n",
       "    </tr>\n",
       "    <tr>\n",
       "      <th>1</th>\n",
       "      <td>4.808344</td>\n",
       "      <td>-1.734609</td>\n",
       "      <td>0.551981</td>\n",
       "      <td>-2.147673</td>\n",
       "      <td>-1.552944</td>\n",
       "      <td>1.514910</td>\n",
       "      <td>-1.143972</td>\n",
       "      <td>0.737594</td>\n",
       "      <td>1.321243</td>\n",
       "      <td>-0.261684</td>\n",
       "      <td>...</td>\n",
       "      <td>-0.677985</td>\n",
       "      <td>-0.165679</td>\n",
       "      <td>0.065405</td>\n",
       "      <td>0.137162</td>\n",
       "      <td>1.258197</td>\n",
       "      <td>-0.120834</td>\n",
       "      <td>-1.564834</td>\n",
       "      <td>-0.242565</td>\n",
       "      <td>-0.001827</td>\n",
       "      <td>1.187453</td>\n",
       "    </tr>\n",
       "    <tr>\n",
       "      <th>2</th>\n",
       "      <td>-1.530427</td>\n",
       "      <td>0.097257</td>\n",
       "      <td>0.107634</td>\n",
       "      <td>-0.194222</td>\n",
       "      <td>0.335454</td>\n",
       "      <td>-0.408199</td>\n",
       "      <td>0.133265</td>\n",
       "      <td>0.706179</td>\n",
       "      <td>0.394971</td>\n",
       "      <td>-0.437116</td>\n",
       "      <td>...</td>\n",
       "      <td>1.108801</td>\n",
       "      <td>0.333791</td>\n",
       "      <td>0.282055</td>\n",
       "      <td>-1.086294</td>\n",
       "      <td>-0.115354</td>\n",
       "      <td>0.257857</td>\n",
       "      <td>-0.088838</td>\n",
       "      <td>-0.751231</td>\n",
       "      <td>1.450609</td>\n",
       "      <td>0.290593</td>\n",
       "    </tr>\n",
       "    <tr>\n",
       "      <th>3</th>\n",
       "      <td>-0.428243</td>\n",
       "      <td>-0.067702</td>\n",
       "      <td>0.557836</td>\n",
       "      <td>0.700848</td>\n",
       "      <td>-1.121376</td>\n",
       "      <td>1.722274</td>\n",
       "      <td>0.613525</td>\n",
       "      <td>0.700909</td>\n",
       "      <td>-0.417976</td>\n",
       "      <td>1.069749</td>\n",
       "      <td>...</td>\n",
       "      <td>0.692511</td>\n",
       "      <td>-0.350990</td>\n",
       "      <td>0.624558</td>\n",
       "      <td>0.434520</td>\n",
       "      <td>-0.367409</td>\n",
       "      <td>-1.144681</td>\n",
       "      <td>-0.136524</td>\n",
       "      <td>-0.557214</td>\n",
       "      <td>0.416303</td>\n",
       "      <td>0.484495</td>\n",
       "    </tr>\n",
       "    <tr>\n",
       "      <th>4</th>\n",
       "      <td>0.566694</td>\n",
       "      <td>0.488729</td>\n",
       "      <td>0.211483</td>\n",
       "      <td>0.568389</td>\n",
       "      <td>0.646837</td>\n",
       "      <td>0.163868</td>\n",
       "      <td>-0.002152</td>\n",
       "      <td>0.125137</td>\n",
       "      <td>0.493571</td>\n",
       "      <td>1.705451</td>\n",
       "      <td>...</td>\n",
       "      <td>-0.000605</td>\n",
       "      <td>1.075280</td>\n",
       "      <td>0.182281</td>\n",
       "      <td>-1.138458</td>\n",
       "      <td>0.106092</td>\n",
       "      <td>0.544640</td>\n",
       "      <td>-0.383487</td>\n",
       "      <td>-0.425773</td>\n",
       "      <td>2.667647</td>\n",
       "      <td>-0.050748</td>\n",
       "    </tr>\n",
       "    <tr>\n",
       "      <th>...</th>\n",
       "      <td>...</td>\n",
       "      <td>...</td>\n",
       "      <td>...</td>\n",
       "      <td>...</td>\n",
       "      <td>...</td>\n",
       "      <td>...</td>\n",
       "      <td>...</td>\n",
       "      <td>...</td>\n",
       "      <td>...</td>\n",
       "      <td>...</td>\n",
       "      <td>...</td>\n",
       "      <td>...</td>\n",
       "      <td>...</td>\n",
       "      <td>...</td>\n",
       "      <td>...</td>\n",
       "      <td>...</td>\n",
       "      <td>...</td>\n",
       "      <td>...</td>\n",
       "      <td>...</td>\n",
       "      <td>...</td>\n",
       "      <td>...</td>\n",
       "    </tr>\n",
       "    <tr>\n",
       "      <th>245</th>\n",
       "      <td>7.296352</td>\n",
       "      <td>0.210132</td>\n",
       "      <td>-0.193059</td>\n",
       "      <td>2.033908</td>\n",
       "      <td>-0.832887</td>\n",
       "      <td>0.049040</td>\n",
       "      <td>-0.197864</td>\n",
       "      <td>-1.885529</td>\n",
       "      <td>-2.526842</td>\n",
       "      <td>-0.826903</td>\n",
       "      <td>...</td>\n",
       "      <td>0.555085</td>\n",
       "      <td>-2.099135</td>\n",
       "      <td>-0.411719</td>\n",
       "      <td>1.053645</td>\n",
       "      <td>-0.172623</td>\n",
       "      <td>-1.207709</td>\n",
       "      <td>0.748914</td>\n",
       "      <td>-1.343144</td>\n",
       "      <td>-0.696000</td>\n",
       "      <td>0.525172</td>\n",
       "    </tr>\n",
       "    <tr>\n",
       "      <th>246</th>\n",
       "      <td>6.385276</td>\n",
       "      <td>-0.039047</td>\n",
       "      <td>-0.021366</td>\n",
       "      <td>1.040784</td>\n",
       "      <td>-3.435317</td>\n",
       "      <td>-0.419417</td>\n",
       "      <td>0.293139</td>\n",
       "      <td>-0.165674</td>\n",
       "      <td>-0.357788</td>\n",
       "      <td>-0.943576</td>\n",
       "      <td>...</td>\n",
       "      <td>-0.564113</td>\n",
       "      <td>-1.721975</td>\n",
       "      <td>-0.556074</td>\n",
       "      <td>0.028959</td>\n",
       "      <td>0.594509</td>\n",
       "      <td>-1.010988</td>\n",
       "      <td>-0.205257</td>\n",
       "      <td>-0.148502</td>\n",
       "      <td>-0.656065</td>\n",
       "      <td>0.140523</td>\n",
       "    </tr>\n",
       "    <tr>\n",
       "      <th>247</th>\n",
       "      <td>7.835373</td>\n",
       "      <td>0.091237</td>\n",
       "      <td>0.473698</td>\n",
       "      <td>0.051832</td>\n",
       "      <td>0.721924</td>\n",
       "      <td>0.337938</td>\n",
       "      <td>1.322324</td>\n",
       "      <td>-0.605442</td>\n",
       "      <td>0.428120</td>\n",
       "      <td>0.003276</td>\n",
       "      <td>...</td>\n",
       "      <td>0.348330</td>\n",
       "      <td>0.099530</td>\n",
       "      <td>0.019925</td>\n",
       "      <td>1.121458</td>\n",
       "      <td>1.901447</td>\n",
       "      <td>-0.431072</td>\n",
       "      <td>-0.124469</td>\n",
       "      <td>-0.084185</td>\n",
       "      <td>-0.200143</td>\n",
       "      <td>0.840786</td>\n",
       "    </tr>\n",
       "    <tr>\n",
       "      <th>248</th>\n",
       "      <td>4.788263</td>\n",
       "      <td>-1.407003</td>\n",
       "      <td>0.510886</td>\n",
       "      <td>-2.077584</td>\n",
       "      <td>-0.438144</td>\n",
       "      <td>2.225628</td>\n",
       "      <td>0.165129</td>\n",
       "      <td>-1.335051</td>\n",
       "      <td>1.348180</td>\n",
       "      <td>-0.031812</td>\n",
       "      <td>...</td>\n",
       "      <td>-1.076265</td>\n",
       "      <td>1.303594</td>\n",
       "      <td>-1.458794</td>\n",
       "      <td>1.172178</td>\n",
       "      <td>0.451014</td>\n",
       "      <td>0.572106</td>\n",
       "      <td>-3.660368</td>\n",
       "      <td>-0.052251</td>\n",
       "      <td>0.543762</td>\n",
       "      <td>0.274006</td>\n",
       "    </tr>\n",
       "    <tr>\n",
       "      <th>249</th>\n",
       "      <td>-0.738250</td>\n",
       "      <td>-1.959505</td>\n",
       "      <td>0.271733</td>\n",
       "      <td>-0.575357</td>\n",
       "      <td>1.757495</td>\n",
       "      <td>-0.294705</td>\n",
       "      <td>0.357976</td>\n",
       "      <td>2.451312</td>\n",
       "      <td>-0.037805</td>\n",
       "      <td>0.471080</td>\n",
       "      <td>...</td>\n",
       "      <td>-0.655907</td>\n",
       "      <td>0.487639</td>\n",
       "      <td>1.512198</td>\n",
       "      <td>-0.822407</td>\n",
       "      <td>1.364416</td>\n",
       "      <td>-0.235698</td>\n",
       "      <td>-0.630991</td>\n",
       "      <td>2.052762</td>\n",
       "      <td>0.033563</td>\n",
       "      <td>-1.198486</td>\n",
       "    </tr>\n",
       "  </tbody>\n",
       "</table>\n",
       "<p>250 rows × 51 columns</p>\n",
       "</div>"
      ],
      "text/plain": [
       "            y        X1        X2        X3        X4        X5        X6  \\\n",
       "0    8.536145 -1.535413  0.718888 -2.099149 -0.442842 -0.598978 -1.642574   \n",
       "1    4.808344 -1.734609  0.551981 -2.147673 -1.552944  1.514910 -1.143972   \n",
       "2   -1.530427  0.097257  0.107634 -0.194222  0.335454 -0.408199  0.133265   \n",
       "3   -0.428243 -0.067702  0.557836  0.700848 -1.121376  1.722274  0.613525   \n",
       "4    0.566694  0.488729  0.211483  0.568389  0.646837  0.163868 -0.002152   \n",
       "..        ...       ...       ...       ...       ...       ...       ...   \n",
       "245  7.296352  0.210132 -0.193059  2.033908 -0.832887  0.049040 -0.197864   \n",
       "246  6.385276 -0.039047 -0.021366  1.040784 -3.435317 -0.419417  0.293139   \n",
       "247  7.835373  0.091237  0.473698  0.051832  0.721924  0.337938  1.322324   \n",
       "248  4.788263 -1.407003  0.510886 -2.077584 -0.438144  2.225628  0.165129   \n",
       "249 -0.738250 -1.959505  0.271733 -0.575357  1.757495 -0.294705  0.357976   \n",
       "\n",
       "           X7        X8        X9  ...       X41       X42       X43  \\\n",
       "0    0.207755  0.760642  0.575874  ...  0.361866  1.793098 -0.631287   \n",
       "1    0.737594  1.321243 -0.261684  ... -0.677985 -0.165679  0.065405   \n",
       "2    0.706179  0.394971 -0.437116  ...  1.108801  0.333791  0.282055   \n",
       "3    0.700909 -0.417976  1.069749  ...  0.692511 -0.350990  0.624558   \n",
       "4    0.125137  0.493571  1.705451  ... -0.000605  1.075280  0.182281   \n",
       "..        ...       ...       ...  ...       ...       ...       ...   \n",
       "245 -1.885529 -2.526842 -0.826903  ...  0.555085 -2.099135 -0.411719   \n",
       "246 -0.165674 -0.357788 -0.943576  ... -0.564113 -1.721975 -0.556074   \n",
       "247 -0.605442  0.428120  0.003276  ...  0.348330  0.099530  0.019925   \n",
       "248 -1.335051  1.348180 -0.031812  ... -1.076265  1.303594 -1.458794   \n",
       "249  2.451312 -0.037805  0.471080  ... -0.655907  0.487639  1.512198   \n",
       "\n",
       "          X44       X45       X46       X47       X48       X49       X50  \n",
       "0   -0.061751  0.511049  0.488754 -0.612772 -0.471045 -1.139781 -0.260773  \n",
       "1    0.137162  1.258197 -0.120834 -1.564834 -0.242565 -0.001827  1.187453  \n",
       "2   -1.086294 -0.115354  0.257857 -0.088838 -0.751231  1.450609  0.290593  \n",
       "3    0.434520 -0.367409 -1.144681 -0.136524 -0.557214  0.416303  0.484495  \n",
       "4   -1.138458  0.106092  0.544640 -0.383487 -0.425773  2.667647 -0.050748  \n",
       "..        ...       ...       ...       ...       ...       ...       ...  \n",
       "245  1.053645 -0.172623 -1.207709  0.748914 -1.343144 -0.696000  0.525172  \n",
       "246  0.028959  0.594509 -1.010988 -0.205257 -0.148502 -0.656065  0.140523  \n",
       "247  1.121458  1.901447 -0.431072 -0.124469 -0.084185 -0.200143  0.840786  \n",
       "248  1.172178  0.451014  0.572106 -3.660368 -0.052251  0.543762  0.274006  \n",
       "249 -0.822407  1.364416 -0.235698 -0.630991  2.052762  0.033563 -1.198486  \n",
       "\n",
       "[250 rows x 51 columns]"
      ]
     },
     "execution_count": 4,
     "metadata": {},
     "output_type": "execute_result"
    }
   ],
   "source": [
    "df"
   ]
  },
  {
   "cell_type": "code",
   "execution_count": 5,
   "metadata": {},
   "outputs": [
    {
     "data": {
      "text/html": [
       "<div>\n",
       "<style scoped>\n",
       "    .dataframe tbody tr th:only-of-type {\n",
       "        vertical-align: middle;\n",
       "    }\n",
       "\n",
       "    .dataframe tbody tr th {\n",
       "        vertical-align: top;\n",
       "    }\n",
       "\n",
       "    .dataframe thead th {\n",
       "        text-align: right;\n",
       "    }\n",
       "</style>\n",
       "<table border=\"1\" class=\"dataframe\">\n",
       "  <thead>\n",
       "    <tr style=\"text-align: right;\">\n",
       "      <th></th>\n",
       "      <th>X1</th>\n",
       "      <th>X2</th>\n",
       "      <th>X3</th>\n",
       "      <th>X4</th>\n",
       "      <th>X5</th>\n",
       "      <th>X6</th>\n",
       "      <th>X7</th>\n",
       "      <th>X8</th>\n",
       "      <th>X9</th>\n",
       "      <th>X10</th>\n",
       "      <th>...</th>\n",
       "      <th>X41</th>\n",
       "      <th>X42</th>\n",
       "      <th>X43</th>\n",
       "      <th>X44</th>\n",
       "      <th>X45</th>\n",
       "      <th>X46</th>\n",
       "      <th>X47</th>\n",
       "      <th>X48</th>\n",
       "      <th>X49</th>\n",
       "      <th>X50</th>\n",
       "    </tr>\n",
       "  </thead>\n",
       "  <tbody>\n",
       "    <tr>\n",
       "      <th>0</th>\n",
       "      <td>-1.535413</td>\n",
       "      <td>0.718888</td>\n",
       "      <td>-2.099149</td>\n",
       "      <td>-0.442842</td>\n",
       "      <td>-0.598978</td>\n",
       "      <td>-1.642574</td>\n",
       "      <td>0.207755</td>\n",
       "      <td>0.760642</td>\n",
       "      <td>0.575874</td>\n",
       "      <td>0.865598</td>\n",
       "      <td>...</td>\n",
       "      <td>0.361866</td>\n",
       "      <td>1.793098</td>\n",
       "      <td>-0.631287</td>\n",
       "      <td>-0.061751</td>\n",
       "      <td>0.511049</td>\n",
       "      <td>0.488754</td>\n",
       "      <td>-0.612772</td>\n",
       "      <td>-0.471045</td>\n",
       "      <td>-1.139781</td>\n",
       "      <td>-0.260773</td>\n",
       "    </tr>\n",
       "    <tr>\n",
       "      <th>1</th>\n",
       "      <td>-1.734609</td>\n",
       "      <td>0.551981</td>\n",
       "      <td>-2.147673</td>\n",
       "      <td>-1.552944</td>\n",
       "      <td>1.514910</td>\n",
       "      <td>-1.143972</td>\n",
       "      <td>0.737594</td>\n",
       "      <td>1.321243</td>\n",
       "      <td>-0.261684</td>\n",
       "      <td>1.838930</td>\n",
       "      <td>...</td>\n",
       "      <td>-0.677985</td>\n",
       "      <td>-0.165679</td>\n",
       "      <td>0.065405</td>\n",
       "      <td>0.137162</td>\n",
       "      <td>1.258197</td>\n",
       "      <td>-0.120834</td>\n",
       "      <td>-1.564834</td>\n",
       "      <td>-0.242565</td>\n",
       "      <td>-0.001827</td>\n",
       "      <td>1.187453</td>\n",
       "    </tr>\n",
       "    <tr>\n",
       "      <th>2</th>\n",
       "      <td>0.097257</td>\n",
       "      <td>0.107634</td>\n",
       "      <td>-0.194222</td>\n",
       "      <td>0.335454</td>\n",
       "      <td>-0.408199</td>\n",
       "      <td>0.133265</td>\n",
       "      <td>0.706179</td>\n",
       "      <td>0.394971</td>\n",
       "      <td>-0.437116</td>\n",
       "      <td>-1.105334</td>\n",
       "      <td>...</td>\n",
       "      <td>1.108801</td>\n",
       "      <td>0.333791</td>\n",
       "      <td>0.282055</td>\n",
       "      <td>-1.086294</td>\n",
       "      <td>-0.115354</td>\n",
       "      <td>0.257857</td>\n",
       "      <td>-0.088838</td>\n",
       "      <td>-0.751231</td>\n",
       "      <td>1.450609</td>\n",
       "      <td>0.290593</td>\n",
       "    </tr>\n",
       "    <tr>\n",
       "      <th>3</th>\n",
       "      <td>-0.067702</td>\n",
       "      <td>0.557836</td>\n",
       "      <td>0.700848</td>\n",
       "      <td>-1.121376</td>\n",
       "      <td>1.722274</td>\n",
       "      <td>0.613525</td>\n",
       "      <td>0.700909</td>\n",
       "      <td>-0.417976</td>\n",
       "      <td>1.069749</td>\n",
       "      <td>-0.314318</td>\n",
       "      <td>...</td>\n",
       "      <td>0.692511</td>\n",
       "      <td>-0.350990</td>\n",
       "      <td>0.624558</td>\n",
       "      <td>0.434520</td>\n",
       "      <td>-0.367409</td>\n",
       "      <td>-1.144681</td>\n",
       "      <td>-0.136524</td>\n",
       "      <td>-0.557214</td>\n",
       "      <td>0.416303</td>\n",
       "      <td>0.484495</td>\n",
       "    </tr>\n",
       "    <tr>\n",
       "      <th>4</th>\n",
       "      <td>0.488729</td>\n",
       "      <td>0.211483</td>\n",
       "      <td>0.568389</td>\n",
       "      <td>0.646837</td>\n",
       "      <td>0.163868</td>\n",
       "      <td>-0.002152</td>\n",
       "      <td>0.125137</td>\n",
       "      <td>0.493571</td>\n",
       "      <td>1.705451</td>\n",
       "      <td>0.431451</td>\n",
       "      <td>...</td>\n",
       "      <td>-0.000605</td>\n",
       "      <td>1.075280</td>\n",
       "      <td>0.182281</td>\n",
       "      <td>-1.138458</td>\n",
       "      <td>0.106092</td>\n",
       "      <td>0.544640</td>\n",
       "      <td>-0.383487</td>\n",
       "      <td>-0.425773</td>\n",
       "      <td>2.667647</td>\n",
       "      <td>-0.050748</td>\n",
       "    </tr>\n",
       "    <tr>\n",
       "      <th>...</th>\n",
       "      <td>...</td>\n",
       "      <td>...</td>\n",
       "      <td>...</td>\n",
       "      <td>...</td>\n",
       "      <td>...</td>\n",
       "      <td>...</td>\n",
       "      <td>...</td>\n",
       "      <td>...</td>\n",
       "      <td>...</td>\n",
       "      <td>...</td>\n",
       "      <td>...</td>\n",
       "      <td>...</td>\n",
       "      <td>...</td>\n",
       "      <td>...</td>\n",
       "      <td>...</td>\n",
       "      <td>...</td>\n",
       "      <td>...</td>\n",
       "      <td>...</td>\n",
       "      <td>...</td>\n",
       "      <td>...</td>\n",
       "      <td>...</td>\n",
       "    </tr>\n",
       "    <tr>\n",
       "      <th>245</th>\n",
       "      <td>0.210132</td>\n",
       "      <td>-0.193059</td>\n",
       "      <td>2.033908</td>\n",
       "      <td>-0.832887</td>\n",
       "      <td>0.049040</td>\n",
       "      <td>-0.197864</td>\n",
       "      <td>-1.885529</td>\n",
       "      <td>-2.526842</td>\n",
       "      <td>-0.826903</td>\n",
       "      <td>-0.582301</td>\n",
       "      <td>...</td>\n",
       "      <td>0.555085</td>\n",
       "      <td>-2.099135</td>\n",
       "      <td>-0.411719</td>\n",
       "      <td>1.053645</td>\n",
       "      <td>-0.172623</td>\n",
       "      <td>-1.207709</td>\n",
       "      <td>0.748914</td>\n",
       "      <td>-1.343144</td>\n",
       "      <td>-0.696000</td>\n",
       "      <td>0.525172</td>\n",
       "    </tr>\n",
       "    <tr>\n",
       "      <th>246</th>\n",
       "      <td>-0.039047</td>\n",
       "      <td>-0.021366</td>\n",
       "      <td>1.040784</td>\n",
       "      <td>-3.435317</td>\n",
       "      <td>-0.419417</td>\n",
       "      <td>0.293139</td>\n",
       "      <td>-0.165674</td>\n",
       "      <td>-0.357788</td>\n",
       "      <td>-0.943576</td>\n",
       "      <td>0.086800</td>\n",
       "      <td>...</td>\n",
       "      <td>-0.564113</td>\n",
       "      <td>-1.721975</td>\n",
       "      <td>-0.556074</td>\n",
       "      <td>0.028959</td>\n",
       "      <td>0.594509</td>\n",
       "      <td>-1.010988</td>\n",
       "      <td>-0.205257</td>\n",
       "      <td>-0.148502</td>\n",
       "      <td>-0.656065</td>\n",
       "      <td>0.140523</td>\n",
       "    </tr>\n",
       "    <tr>\n",
       "      <th>247</th>\n",
       "      <td>0.091237</td>\n",
       "      <td>0.473698</td>\n",
       "      <td>0.051832</td>\n",
       "      <td>0.721924</td>\n",
       "      <td>0.337938</td>\n",
       "      <td>1.322324</td>\n",
       "      <td>-0.605442</td>\n",
       "      <td>0.428120</td>\n",
       "      <td>0.003276</td>\n",
       "      <td>1.374990</td>\n",
       "      <td>...</td>\n",
       "      <td>0.348330</td>\n",
       "      <td>0.099530</td>\n",
       "      <td>0.019925</td>\n",
       "      <td>1.121458</td>\n",
       "      <td>1.901447</td>\n",
       "      <td>-0.431072</td>\n",
       "      <td>-0.124469</td>\n",
       "      <td>-0.084185</td>\n",
       "      <td>-0.200143</td>\n",
       "      <td>0.840786</td>\n",
       "    </tr>\n",
       "    <tr>\n",
       "      <th>248</th>\n",
       "      <td>-1.407003</td>\n",
       "      <td>0.510886</td>\n",
       "      <td>-2.077584</td>\n",
       "      <td>-0.438144</td>\n",
       "      <td>2.225628</td>\n",
       "      <td>0.165129</td>\n",
       "      <td>-1.335051</td>\n",
       "      <td>1.348180</td>\n",
       "      <td>-0.031812</td>\n",
       "      <td>-0.383660</td>\n",
       "      <td>...</td>\n",
       "      <td>-1.076265</td>\n",
       "      <td>1.303594</td>\n",
       "      <td>-1.458794</td>\n",
       "      <td>1.172178</td>\n",
       "      <td>0.451014</td>\n",
       "      <td>0.572106</td>\n",
       "      <td>-3.660368</td>\n",
       "      <td>-0.052251</td>\n",
       "      <td>0.543762</td>\n",
       "      <td>0.274006</td>\n",
       "    </tr>\n",
       "    <tr>\n",
       "      <th>249</th>\n",
       "      <td>-1.959505</td>\n",
       "      <td>0.271733</td>\n",
       "      <td>-0.575357</td>\n",
       "      <td>1.757495</td>\n",
       "      <td>-0.294705</td>\n",
       "      <td>0.357976</td>\n",
       "      <td>2.451312</td>\n",
       "      <td>-0.037805</td>\n",
       "      <td>0.471080</td>\n",
       "      <td>-0.824074</td>\n",
       "      <td>...</td>\n",
       "      <td>-0.655907</td>\n",
       "      <td>0.487639</td>\n",
       "      <td>1.512198</td>\n",
       "      <td>-0.822407</td>\n",
       "      <td>1.364416</td>\n",
       "      <td>-0.235698</td>\n",
       "      <td>-0.630991</td>\n",
       "      <td>2.052762</td>\n",
       "      <td>0.033563</td>\n",
       "      <td>-1.198486</td>\n",
       "    </tr>\n",
       "  </tbody>\n",
       "</table>\n",
       "<p>250 rows × 50 columns</p>\n",
       "</div>"
      ],
      "text/plain": [
       "           X1        X2        X3        X4        X5        X6        X7  \\\n",
       "0   -1.535413  0.718888 -2.099149 -0.442842 -0.598978 -1.642574  0.207755   \n",
       "1   -1.734609  0.551981 -2.147673 -1.552944  1.514910 -1.143972  0.737594   \n",
       "2    0.097257  0.107634 -0.194222  0.335454 -0.408199  0.133265  0.706179   \n",
       "3   -0.067702  0.557836  0.700848 -1.121376  1.722274  0.613525  0.700909   \n",
       "4    0.488729  0.211483  0.568389  0.646837  0.163868 -0.002152  0.125137   \n",
       "..        ...       ...       ...       ...       ...       ...       ...   \n",
       "245  0.210132 -0.193059  2.033908 -0.832887  0.049040 -0.197864 -1.885529   \n",
       "246 -0.039047 -0.021366  1.040784 -3.435317 -0.419417  0.293139 -0.165674   \n",
       "247  0.091237  0.473698  0.051832  0.721924  0.337938  1.322324 -0.605442   \n",
       "248 -1.407003  0.510886 -2.077584 -0.438144  2.225628  0.165129 -1.335051   \n",
       "249 -1.959505  0.271733 -0.575357  1.757495 -0.294705  0.357976  2.451312   \n",
       "\n",
       "           X8        X9       X10  ...       X41       X42       X43  \\\n",
       "0    0.760642  0.575874  0.865598  ...  0.361866  1.793098 -0.631287   \n",
       "1    1.321243 -0.261684  1.838930  ... -0.677985 -0.165679  0.065405   \n",
       "2    0.394971 -0.437116 -1.105334  ...  1.108801  0.333791  0.282055   \n",
       "3   -0.417976  1.069749 -0.314318  ...  0.692511 -0.350990  0.624558   \n",
       "4    0.493571  1.705451  0.431451  ... -0.000605  1.075280  0.182281   \n",
       "..        ...       ...       ...  ...       ...       ...       ...   \n",
       "245 -2.526842 -0.826903 -0.582301  ...  0.555085 -2.099135 -0.411719   \n",
       "246 -0.357788 -0.943576  0.086800  ... -0.564113 -1.721975 -0.556074   \n",
       "247  0.428120  0.003276  1.374990  ...  0.348330  0.099530  0.019925   \n",
       "248  1.348180 -0.031812 -0.383660  ... -1.076265  1.303594 -1.458794   \n",
       "249 -0.037805  0.471080 -0.824074  ... -0.655907  0.487639  1.512198   \n",
       "\n",
       "          X44       X45       X46       X47       X48       X49       X50  \n",
       "0   -0.061751  0.511049  0.488754 -0.612772 -0.471045 -1.139781 -0.260773  \n",
       "1    0.137162  1.258197 -0.120834 -1.564834 -0.242565 -0.001827  1.187453  \n",
       "2   -1.086294 -0.115354  0.257857 -0.088838 -0.751231  1.450609  0.290593  \n",
       "3    0.434520 -0.367409 -1.144681 -0.136524 -0.557214  0.416303  0.484495  \n",
       "4   -1.138458  0.106092  0.544640 -0.383487 -0.425773  2.667647 -0.050748  \n",
       "..        ...       ...       ...       ...       ...       ...       ...  \n",
       "245  1.053645 -0.172623 -1.207709  0.748914 -1.343144 -0.696000  0.525172  \n",
       "246  0.028959  0.594509 -1.010988 -0.205257 -0.148502 -0.656065  0.140523  \n",
       "247  1.121458  1.901447 -0.431072 -0.124469 -0.084185 -0.200143  0.840786  \n",
       "248  1.172178  0.451014  0.572106 -3.660368 -0.052251  0.543762  0.274006  \n",
       "249 -0.822407  1.364416 -0.235698 -0.630991  2.052762  0.033563 -1.198486  \n",
       "\n",
       "[250 rows x 50 columns]"
      ]
     },
     "execution_count": 5,
     "metadata": {},
     "output_type": "execute_result"
    }
   ],
   "source": [
    "y=df['y']\n",
    "x=df.iloc[:, 1:]\n",
    "x"
   ]
  },
  {
   "cell_type": "code",
   "execution_count": 6,
   "metadata": {},
   "outputs": [],
   "source": [
    "ndata = x.shape[0]\n",
    "nx = x.shape[1]\n",
    "batches = 10\n",
    "dat_per_bat = ndata//batches\n",
    "M=10"
   ]
  },
  {
   "cell_type": "markdown",
   "metadata": {},
   "source": [
    "**Calculate the MSE for different k-fold**"
   ]
  },
  {
   "cell_type": "code",
   "execution_count": 7,
   "metadata": {},
   "outputs": [
    {
     "name": "stdout",
     "output_type": "stream",
     "text": [
      "--- 1683.7321410179138 seconds ---\n"
     ]
    }
   ],
   "source": [
    "start_time1 = time.time()\n",
    "if not os.path.isfile('results.csv'):\n",
    "        shuf = np.random.choice(range(ndata),size=ndata,replace=False)\n",
    "        k=[*range(5,nx+1,5)]\n",
    "        results_df = pd.DataFrame(columns=['k', 'MSE'])\n",
    "        for l in range(len(k)):\n",
    "                k_mse=0\n",
    "                for bat in range(batches):\n",
    "                #Divide in batches\n",
    "                        this_bat = shuf[(bat*dat_per_bat):((bat+1)*dat_per_bat)]\n",
    "                \n",
    "                # Testing Set\n",
    "                        X_test = x.iloc[this_bat,:]\n",
    "                        y_test = y.iloc[this_bat]\n",
    "\n",
    "                # Training set\n",
    "                        train_indices = [i for i in range(ndata) if i not in this_bat]\n",
    "                        X_train = x.iloc[train_indices,:]\n",
    "                        y_train = y.iloc[train_indices]\n",
    "                        n_train=X_train.shape[0]\n",
    "\n",
    "                # Fit the linear regression model on the training data\n",
    "                        qp = gp.Model(env=env)\n",
    "                        w = qp.addMVar(nx+1,lb=-gp.GRB.INFINITY)\n",
    "                        c = qp.addMVar(nx+1,vtype='B')\n",
    "                        qp.setObjective(gp.quicksum((((w[0]+gp.quicksum(X_train.iloc[j,i]*w[i+1] for i in range(nx)))-y_train.iloc[j])\n",
    "                                                     *((w[0]+gp.quicksum(X_train.iloc[j,i]*w[i+1] for i in range(nx)))-y_train.iloc[j])) for j in range(n_train)))\n",
    "                        con1=qp.addConstrs(w[i+1]>=-c[i+1]*M for i in range(nx))\n",
    "                        con2=qp.addConstrs(w[i+1]<=c[i+1]*M for i in range(nx))\n",
    "                        con3=qp.addConstr(gp.quicksum(c[i+1] for i in range(nx))==k[l])\n",
    "                        qp.Params.OutputFlag = 0\n",
    "                        qp.optimize()\n",
    "\n",
    "                # Predict on the test data\n",
    "                        y_pred=[0]*len(y_test)\n",
    "                        for ki in range(len(y_test)):\n",
    "                                y_pred[ki]=w.x[0]\n",
    "                                for j in range(nx):\n",
    "                                        y_pred[ki]+=w.x[j+1]*X_test.iloc[ki,j]\n",
    "\n",
    "                # Calculate the mean squared error for this fold\n",
    "                        mse = mean_squared_error(y_test, y_pred)\n",
    "\n",
    "                        k_mse+=mse\n",
    "                average_mse=k_mse/batches\n",
    "                new_data = pd.DataFrame({'k': [k[l]], 'MSE': [average_mse]})\n",
    "\n",
    "        # Concatenate the new data with the existing 'results' DataFrame\n",
    "                results_df = pd.concat([results_df, new_data], ignore_index=True)\n",
    "        results_df.to_csv('results.csv', index=False)\n",
    "else:\n",
    "        results_df=pd.read_csv('results.csv')\n",
    "time1=time.time() - start_time1\n",
    "print(\"--- %s seconds ---\" % (time1))"
   ]
  },
  {
   "cell_type": "markdown",
   "metadata": {},
   "source": [
    "Computational Time is : 1683.7321410179138 seconds"
   ]
  },
  {
   "cell_type": "code",
   "execution_count": 8,
   "metadata": {},
   "outputs": [
    {
     "data": {
      "text/html": [
       "<div>\n",
       "<style scoped>\n",
       "    .dataframe tbody tr th:only-of-type {\n",
       "        vertical-align: middle;\n",
       "    }\n",
       "\n",
       "    .dataframe tbody tr th {\n",
       "        vertical-align: top;\n",
       "    }\n",
       "\n",
       "    .dataframe thead th {\n",
       "        text-align: right;\n",
       "    }\n",
       "</style>\n",
       "<table border=\"1\" class=\"dataframe\">\n",
       "  <thead>\n",
       "    <tr style=\"text-align: right;\">\n",
       "      <th></th>\n",
       "      <th>k</th>\n",
       "      <th>MSE</th>\n",
       "    </tr>\n",
       "  </thead>\n",
       "  <tbody>\n",
       "    <tr>\n",
       "      <th>0</th>\n",
       "      <td>5</td>\n",
       "      <td>3.904309</td>\n",
       "    </tr>\n",
       "    <tr>\n",
       "      <th>1</th>\n",
       "      <td>10</td>\n",
       "      <td>2.885767</td>\n",
       "    </tr>\n",
       "    <tr>\n",
       "      <th>2</th>\n",
       "      <td>15</td>\n",
       "      <td>3.238484</td>\n",
       "    </tr>\n",
       "    <tr>\n",
       "      <th>3</th>\n",
       "      <td>20</td>\n",
       "      <td>3.237608</td>\n",
       "    </tr>\n",
       "    <tr>\n",
       "      <th>4</th>\n",
       "      <td>25</td>\n",
       "      <td>3.267953</td>\n",
       "    </tr>\n",
       "    <tr>\n",
       "      <th>5</th>\n",
       "      <td>30</td>\n",
       "      <td>3.280836</td>\n",
       "    </tr>\n",
       "    <tr>\n",
       "      <th>6</th>\n",
       "      <td>35</td>\n",
       "      <td>3.404056</td>\n",
       "    </tr>\n",
       "    <tr>\n",
       "      <th>7</th>\n",
       "      <td>40</td>\n",
       "      <td>3.408604</td>\n",
       "    </tr>\n",
       "    <tr>\n",
       "      <th>8</th>\n",
       "      <td>45</td>\n",
       "      <td>3.446068</td>\n",
       "    </tr>\n",
       "    <tr>\n",
       "      <th>9</th>\n",
       "      <td>50</td>\n",
       "      <td>3.443178</td>\n",
       "    </tr>\n",
       "  </tbody>\n",
       "</table>\n",
       "</div>"
      ],
      "text/plain": [
       "    k       MSE\n",
       "0   5  3.904309\n",
       "1  10  2.885767\n",
       "2  15  3.238484\n",
       "3  20  3.237608\n",
       "4  25  3.267953\n",
       "5  30  3.280836\n",
       "6  35  3.404056\n",
       "7  40  3.408604\n",
       "8  45  3.446068\n",
       "9  50  3.443178"
      ]
     },
     "execution_count": 8,
     "metadata": {},
     "output_type": "execute_result"
    }
   ],
   "source": [
    "results_df"
   ]
  },
  {
   "cell_type": "markdown",
   "metadata": {},
   "source": [
    "**Getting the Best k-value with lowest MSE**"
   ]
  },
  {
   "cell_type": "code",
   "execution_count": 9,
   "metadata": {},
   "outputs": [],
   "source": [
    "k_best=results_df['k'][results_df['MSE'].idxmin(axis=0)]"
   ]
  },
  {
   "cell_type": "markdown",
   "metadata": {},
   "source": [
    "**Reading Test_data.csv file**"
   ]
  },
  {
   "cell_type": "code",
   "execution_count": 10,
   "metadata": {},
   "outputs": [],
   "source": [
    "dftest=pd.read_csv('test_data.csv')"
   ]
  },
  {
   "cell_type": "code",
   "execution_count": 11,
   "metadata": {},
   "outputs": [],
   "source": [
    "ytest=dftest['y']\n",
    "xtest=dftest.iloc[:, 1:]\n",
    "ndata_t = xtest.shape[0]\n",
    "nx_t = xtest.shape[1]"
   ]
  },
  {
   "cell_type": "code",
   "execution_count": 12,
   "metadata": {},
   "outputs": [
    {
     "name": "stdout",
     "output_type": "stream",
     "text": [
      "--- 4.6013641357421875 seconds ---\n"
     ]
    }
   ],
   "source": [
    "start_time2 = time.time()\n",
    "qp = gp.Model(env=env)\n",
    "w = qp.addMVar(51,lb=-gp.GRB.INFINITY)\n",
    "c = qp.addMVar(51,vtype='B')\n",
    "qp.setObjective(gp.quicksum((((w[0]+gp.quicksum(x.iloc[j,i]*w[i+1] for i in range(nx)))-y.iloc[j])*((w[0]+gp.quicksum(x.iloc[j,i]*w[i+1] for i in range(nx)))-y.iloc[j])) for j in range(ndata)))\n",
    "con1=qp.addConstrs(w[i+1]>=-c[i+1]*M for i in range(nx))\n",
    "con2=qp.addConstrs(w[i+1]<=c[i+1]*M for i in range(nx))\n",
    "con3=qp.addConstr(gp.quicksum(c[i+1] for i in range(nx))==k_best)\n",
    "qp.Params.OutputFlag = 0\n",
    "qp.optimize()\n",
    "time2=time.time() - start_time2\n",
    "print(\"--- %s seconds ---\" % (time2))"
   ]
  },
  {
   "cell_type": "markdown",
   "metadata": {},
   "source": [
    "Computational Time is : 4.6013641357421875 seconds"
   ]
  },
  {
   "cell_type": "code",
   "execution_count": 13,
   "metadata": {},
   "outputs": [],
   "source": [
    "y_pred=[0]*len(ytest)\n",
    "for ki in range(len(ytest)):\n",
    "    y_pred[ki]=w.x[0]\n",
    "    for j in range(nx):\n",
    "        y_pred[ki]+=w.x[j+1]*xtest.iloc[ki,j]\n",
    "mse_final = mean_squared_error(ytest, y_pred)"
   ]
  },
  {
   "cell_type": "code",
   "execution_count": 14,
   "metadata": {},
   "outputs": [
    {
     "data": {
      "text/plain": [
       "2.3365439645525257"
      ]
     },
     "execution_count": 14,
     "metadata": {},
     "output_type": "execute_result"
    }
   ],
   "source": [
    "mse_final"
   ]
  },
  {
   "cell_type": "markdown",
   "metadata": {},
   "source": [
    "Mean squared errors in Test data using the MQIP model is: 2.3365439645525257"
   ]
  },
  {
   "cell_type": "markdown",
   "metadata": {},
   "source": [
    "# LASSO"
   ]
  },
  {
   "cell_type": "markdown",
   "metadata": {},
   "source": [
    "**Getting the best alpha value**"
   ]
  },
  {
   "cell_type": "code",
   "execution_count": 15,
   "metadata": {},
   "outputs": [
    {
     "name": "stdout",
     "output_type": "stream",
     "text": [
      "--- 0.2603330612182617 seconds ---\n"
     ]
    }
   ],
   "source": [
    "import numpy as np\n",
    "from sklearn.linear_model import Lasso\n",
    "from sklearn.model_selection import cross_val_score, KFold\n",
    "\n",
    "# Generate some sample data for demonstration\n",
    "# Replace this with your own dataset\n",
    "np.random.seed(42)\n",
    "X = x  # Replace with your feature matrix\n",
    "y = y    # Replace with your target variable\n",
    "\n",
    "# Define a list of alpha values to test\n",
    "alpha_values = [0.001,0.1, 0.5, 1.0, 2.0, 5.0, 10.0, 20.0, 50.0, 100.0]\n",
    "\n",
    "# Define the number of folds for cross-validation\n",
    "n_folds = 10\n",
    "\n",
    "# Create a cross-validation object\n",
    "kf = KFold(n_splits=n_folds, shuffle=True, random_state=42)\n",
    "\n",
    "# Store the results (average MSE) for each alpha value\n",
    "results = pd.DataFrame(columns=['alpha', 'MSE'])\n",
    "start_time3 = time.time()\n",
    "for alpha in alpha_values:\n",
    "    lasso = Lasso(alpha=alpha)\n",
    "\n",
    "    # Perform 10-fold cross-validation\n",
    "    scores = cross_val_score(lasso, X, y, cv=kf, scoring='neg_mean_squared_error')\n",
    "\n",
    "    # Convert the negative mean squared error scores to positive values\n",
    "    mse_scores = -scores\n",
    "\n",
    "    # Calculate the average mean squared error for this alpha value\n",
    "    average_mse = np.mean(mse_scores)\n",
    "\n",
    "    # Store the result for this alpha value\n",
    "    new_data = pd.DataFrame({'alpha': [alpha], 'MSE': [average_mse]})\n",
    "\n",
    "# Concatenate the new data with the existing 'results' DataFrame\n",
    "    results = pd.concat([results, new_data], ignore_index=True)\n",
    "\n",
    "# Print the results\n",
    "results\n",
    "time3=time.time() - start_time3\n",
    "print(\"--- %s seconds ---\" % (time3))"
   ]
  },
  {
   "cell_type": "markdown",
   "metadata": {},
   "source": [
    "Computational time : 0.2603330612182617 seconds"
   ]
  },
  {
   "cell_type": "code",
   "execution_count": 16,
   "metadata": {},
   "outputs": [
    {
     "data": {
      "text/plain": [
       "0.1"
      ]
     },
     "execution_count": 16,
     "metadata": {},
     "output_type": "execute_result"
    }
   ],
   "source": [
    "alpha_best=results['alpha'][results['MSE'].idxmin(axis=0)]\n",
    "alpha_best"
   ]
  },
  {
   "cell_type": "markdown",
   "metadata": {},
   "source": [
    "The best alpha value : 0.1"
   ]
  },
  {
   "cell_type": "code",
   "execution_count": 17,
   "metadata": {},
   "outputs": [
    {
     "name": "stdout",
     "output_type": "stream",
     "text": [
      "--- 0.002516031265258789 seconds ---\n"
     ]
    },
    {
     "data": {
      "text/plain": [
       "2.359951684719157"
      ]
     },
     "execution_count": 17,
     "metadata": {},
     "output_type": "execute_result"
    }
   ],
   "source": [
    "start_time4 = time.time()\n",
    "lasso = Lasso(alpha=alpha_best)  # You can adjust the alpha parameter for regularization strength\n",
    "lasso.fit(x,y)\n",
    "time4=time.time() - start_time4\n",
    "print(\"--- %s seconds ---\" % (time4))\n",
    "# Make predictions on the test data\n",
    "y_predl = lasso.predict(xtest)\n",
    "\n",
    "# Evaluate the model\n",
    "mse = mean_squared_error(ytest, y_predl)\n",
    "mse\n"
   ]
  },
  {
   "cell_type": "markdown",
   "metadata": {},
   "source": [
    "Computational time : 0.002516031265258789 seconds\n",
    "\n",
    "\n",
    "MSE : 2.359951684719157"
   ]
  },
  {
   "cell_type": "code",
   "execution_count": 18,
   "metadata": {},
   "outputs": [
    {
     "data": {
      "text/plain": [
       "<Axes: title={'center': 'Train error for different values of K'}, xlabel='k'>"
      ]
     },
     "execution_count": 18,
     "metadata": {},
     "output_type": "execute_result"
    },
    {
     "data": {
      "image/png": "[encoded data removed]",
      "text/plain": [
       "<Figure size 640x480 with 1 Axes>"
      ]
     },
     "metadata": {},
     "output_type": "display_data"
    }
   ],
   "source": [
    "results_df.plot(x='k',y='MSE', title='Train error for different values of K')"
   ]
  },
  {
   "cell_type": "code",
   "execution_count": 19,
   "metadata": {},
   "outputs": [],
   "source": [
    "import math\n",
    "results['log_alpha']=results['alpha'].apply(math.log10)"
   ]
  },
  {
   "cell_type": "code",
   "execution_count": 20,
   "metadata": {},
   "outputs": [
    {
     "data": {
      "text/plain": [
       "<Axes: title={'center': 'Train error for different values of alpha'}, xlabel='log_alpha'>"
      ]
     },
     "execution_count": 20,
     "metadata": {},
     "output_type": "execute_result"
    },
    {
     "data": {
      "image/png": "[encoded data removed]",
      "text/plain": [
       "<Figure size 640x480 with 1 Axes>"
      ]
     },
     "metadata": {},
     "output_type": "display_data"
    }
   ],
   "source": [
    "results.plot(x='log_alpha',y='MSE', title='Train error for different values of alpha')"
   ]
  },
  {
   "cell_type": "code",
   "execution_count": 21,
   "metadata": {},
   "outputs": [
    {
     "data": {
      "text/plain": [
       "2.8857666319530133"
      ]
     },
     "execution_count": 21,
     "metadata": {},
     "output_type": "execute_result"
    }
   ],
   "source": [
    "results_df['MSE'].min(axis=0)"
   ]
  },
  {
   "cell_type": "code",
   "execution_count": 22,
   "metadata": {},
   "outputs": [],
   "source": [
    "df_errors=pd.DataFrame({'MIQP Train Error': [results_df['MSE'].min(axis=0)], 'MIQP Test Error': [mse_final],'Lasso Train Error':[results['MSE'].min(axis=0)],'Lasso Test Error':[mse]})"
   ]
  },
  {
   "cell_type": "code",
   "execution_count": 23,
   "metadata": {},
   "outputs": [
    {
     "data": {
      "text/plain": [
       "<Axes: >"
      ]
     },
     "execution_count": 23,
     "metadata": {},
     "output_type": "execute_result"
    },
    {
     "data": {
      "image/png": "[encoded data removed]",
      "text/plain": [
       "<Figure size 640x480 with 1 Axes>"
      ]
     },
     "metadata": {},
     "output_type": "display_data"
    }
   ],
   "source": [
    "df_errors.plot(kind='bar')"
   ]
  },
  {
   "cell_type": "markdown",
   "metadata": {},
   "source": [
    "**Comparison of Ceofficients obtained from both models**"
   ]
  },
  {
   "cell_type": "code",
   "execution_count": 24,
   "metadata": {},
   "outputs": [],
   "source": [
    "coeff=pd.DataFrame({'MIQP Coefficients':w.x[1:],'Lasso Coefficients':lasso.coef_})"
   ]
  },
  {
   "cell_type": "code",
   "execution_count": 25,
   "metadata": {},
   "outputs": [
    {
     "data": {
      "text/plain": [
       "<Axes: title={'center': 'Comparison of Ceofficients obtained from both models'}>"
      ]
     },
     "execution_count": 25,
     "metadata": {},
     "output_type": "execute_result"
    },
    {
     "data": {
      "image/png": "[encoded data removed]",
      "text/plain": [
       "<Figure size 640x480 with 1 Axes>"
      ]
     },
     "metadata": {},
     "output_type": "display_data"
    }
   ],
   "source": [
    "coeff.plot(title='Comparison of Ceofficients obtained from both models')"
   ]
  },
  {
   "cell_type": "code",
   "execution_count": 26,
   "metadata": {},
   "outputs": [
    {
     "data": {
      "text/plain": [
       "<Axes: >"
      ]
     },
     "execution_count": 26,
     "metadata": {},
     "output_type": "execute_result"
    },
    {
     "data": {
      "image/png": "[encoded data removed]",
      "text/plain": [
       "<Figure size 640x480 with 1 Axes>"
      ]
     },
     "metadata": {},
     "output_type": "display_data"
    }
   ],
   "source": [
    "output=pd.DataFrame({'Actual':ytest,'MIQP Prediction':y_pred,'Lasso Prediction':y_predl})\n",
    "output.plot()"
   ]
  },
  {
   "cell_type": "code",
   "execution_count": 27,
   "metadata": {},
   "outputs": [
    {
     "data": {
      "text/plain": [
       "<Axes: >"
      ]
     },
     "execution_count": 27,
     "metadata": {},
     "output_type": "execute_result"
    },
    {
     "data": {
      "image/png": "[encoded data removed]",
      "text/plain": [
       "<Figure size 640x480 with 1 Axes>"
      ]
     },
     "metadata": {},
     "output_type": "display_data"
    }
   ],
   "source": [
    "df_time=pd.DataFrame({'MIQP Validation Time': [time1], 'MIQP Execution Time': [time2],'Lasso Validation Time':[time3],'Lasso Execution Time':[time4]})\n",
    "df_time.plot(kind='bar')"
   ]
  },
  {
   "cell_type": "code",
   "execution_count": 28,
   "metadata": {},
   "outputs": [
    {
     "data": {
      "text/html": [
       "<div>\n",
       "<style scoped>\n",
       "    .dataframe tbody tr th:only-of-type {\n",
       "        vertical-align: middle;\n",
       "    }\n",
       "\n",
       "    .dataframe tbody tr th {\n",
       "        vertical-align: top;\n",
       "    }\n",
       "\n",
       "    .dataframe thead th {\n",
       "        text-align: right;\n",
       "    }\n",
       "</style>\n",
       "<table border=\"1\" class=\"dataframe\">\n",
       "  <thead>\n",
       "    <tr style=\"text-align: right;\">\n",
       "      <th></th>\n",
       "      <th>MIQP Validation Time</th>\n",
       "      <th>MIQP Execution Time</th>\n",
       "      <th>Lasso Validation Time</th>\n",
       "      <th>Lasso Execution Time</th>\n",
       "    </tr>\n",
       "  </thead>\n",
       "  <tbody>\n",
       "    <tr>\n",
       "      <th>0</th>\n",
       "      <td>1683.732141</td>\n",
       "      <td>4.601364</td>\n",
       "      <td>0.260333</td>\n",
       "      <td>0.002516</td>\n",
       "    </tr>\n",
       "  </tbody>\n",
       "</table>\n",
       "</div>"
      ],
      "text/plain": [
       "   MIQP Validation Time  MIQP Execution Time  Lasso Validation Time  \\\n",
       "0           1683.732141             4.601364               0.260333   \n",
       "\n",
       "   Lasso Execution Time  \n",
       "0              0.002516  "
      ]
     },
     "execution_count": 28,
     "metadata": {},
     "output_type": "execute_result"
    }
   ],
   "source": [
    "df_time"
   ]
  },
  {
   "cell_type": "markdown",
   "metadata": {},
   "source": [
    "LASSO imposes a penalty on the L1 norm of the coefficients, which may result in significant variables' coefficients reducing to zero.\n",
    "\n",
    "LASSO is computationally efficient and thus, is helpful in scenarios with a large number of predictor variables. At the same time, LASSO may not always yield the optimal solution\n",
    "\n",
    "In the case of Direct Variable Selection, the optimal number of variables (K) is determined using cross-validation. This yields the optimal solution if all the possible subsets of variables are tested. But, this method is also computationally slower.\n",
    "\n",
    "Now in cases, where we have a small number of predictor variables and a low error tolerance, direct variable selection is preferred. On the other hand, LASSO is suitable when dealing with a large number of potential predictor variables or limited computational resources.\n",
    "\n",
    "**Recommendations:**\n",
    "\n",
    "MIQP has the advantage of how many variables we want to include, where as lasso doesn't.\n",
    "\n",
    "MIQP is very slow than lasso, and offers very little improvement in accuracy. But it achieves that accuracy with a smaller number of variables|\n",
    "\n",
    "Lasso is also pretty old therefore it is standard at this point, therefore it is much easy and fast to implement it than MIQP. It ran for couple of seconds while the Varaible Selection method ran for hours.\n",
    "\n",
    "Again, we also see that the difference in the Test MSE in both the cases are comparable.\n",
    "\n",
    "Taking both of these factors into account, ***LASSO should be recommended***"
   ]
  }
 ],
 "metadata": {
  "kernelspec": {
   "display_name": "Python 3 (ipykernel)",
   "language": "python",
   "name": "python3"
  },
  "language_info": {
   "codemirror_mode": {
    "name": "ipython",
    "version": 3
   },
   "file_extension": ".py",
   "mimetype": "text/x-python",
   "name": "python",
   "nbconvert_exporter": "python",
   "pygments_lexer": "ipython3",
   "version": "3.10.8"
  }
 },
 "nbformat": 4,
 "nbformat_minor": 2
}
